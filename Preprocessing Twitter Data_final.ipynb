{
 "cells": [
  {
   "cell_type": "code",
   "execution_count": 1,
   "id": "instant-aluminum",
   "metadata": {},
   "outputs": [],
   "source": [
    "import pandas as pd\n",
    "import numpy as np \n",
    "import matplotlib.pyplot as plt\n",
    "import re"
   ]
  },
  {
   "cell_type": "code",
   "execution_count": 2,
   "id": "thirty-declaration",
   "metadata": {},
   "outputs": [],
   "source": [
    "from wordcloud import WordCloud "
   ]
  },
  {
   "cell_type": "code",
   "execution_count": 3,
   "id": "english-regulation",
   "metadata": {},
   "outputs": [],
   "source": [
    "import nltk.sentiment.vader"
   ]
  },
  {
   "cell_type": "code",
   "execution_count": 4,
   "id": "correct-summer",
   "metadata": {},
   "outputs": [],
   "source": [
    "from nltk.sentiment.vader import SentimentIntensityAnalyzer"
   ]
  },
  {
   "cell_type": "code",
   "execution_count": 5,
   "id": "enormous-principle",
   "metadata": {},
   "outputs": [],
   "source": [
    "from nltk.corpus import stopwords\n",
    "from sklearn.feature_extraction.text import CountVectorizer\n",
    "\n",
    "\n",
    "english_stopwords = stopwords.words('english')\n",
    "\n",
    "vect = CountVectorizer(stop_words = english_stopwords)"
   ]
  },
  {
   "cell_type": "code",
   "execution_count": 6,
   "id": "invalid-tomorrow",
   "metadata": {},
   "outputs": [
    {
     "name": "stderr",
     "output_type": "stream",
     "text": [
      "[nltk_data] Downloading package vader_lexicon to\n",
      "[nltk_data]     C:\\Users\\tobis\\AppData\\Roaming\\nltk_data...\n",
      "[nltk_data]   Package vader_lexicon is already up-to-date!\n"
     ]
    },
    {
     "data": {
      "text/plain": [
       "True"
      ]
     },
     "execution_count": 6,
     "metadata": {},
     "output_type": "execute_result"
    }
   ],
   "source": [
    "nltk.download('vader_lexicon')"
   ]
  },
  {
   "cell_type": "code",
   "execution_count": 7,
   "id": "virgin-stroke",
   "metadata": {},
   "outputs": [],
   "source": [
    "sid = SentimentIntensityAnalyzer()"
   ]
  },
  {
   "cell_type": "code",
   "execution_count": 8,
   "id": "sacred-shore",
   "metadata": {},
   "outputs": [],
   "source": [
    "df1 = pd.read_csv(r'C:\\Users\\tobis\\Downloads\\WPy64-3920\\notebooks\\SGE',header=None)\n",
    "df2 = pd.read_csv(r'C:\\Users\\tobis\\Downloads\\WPy64-3920\\notebooks\\SGE_1',header=None)\n",
    "df3 = pd.read_csv(r'C:\\Users\\tobis\\Downloads\\WPy64-3920\\notebooks\\SGE_2',header=None)\n",
    "df4 = pd.read_csv(r'C:\\Users\\tobis\\Downloads\\WPy64-3920\\notebooks\\SGE_3',header=None)"
   ]
  },
  {
   "cell_type": "code",
   "execution_count": 9,
   "id": "average-cricket",
   "metadata": {},
   "outputs": [
    {
     "data": {
      "text/html": [
       "<div>\n",
       "<style scoped>\n",
       "    .dataframe tbody tr th:only-of-type {\n",
       "        vertical-align: middle;\n",
       "    }\n",
       "\n",
       "    .dataframe tbody tr th {\n",
       "        vertical-align: top;\n",
       "    }\n",
       "\n",
       "    .dataframe thead th {\n",
       "        text-align: right;\n",
       "    }\n",
       "</style>\n",
       "<table border=\"1\" class=\"dataframe\">\n",
       "  <thead>\n",
       "    <tr style=\"text-align: right;\">\n",
       "      <th></th>\n",
       "      <th>0</th>\n",
       "      <th>1</th>\n",
       "      <th>2</th>\n",
       "      <th>3</th>\n",
       "    </tr>\n",
       "  </thead>\n",
       "  <tbody>\n",
       "    <tr>\n",
       "      <th>0</th>\n",
       "      <td>2022-02-16 20:55:37+00:00</td>\n",
       "      <td>b'@oliver_sge @Martin87325975 @Claudia77383293...</td>\n",
       "      <td>b'SaschaLakic'</td>\n",
       "      <td>b''</td>\n",
       "    </tr>\n",
       "    <tr>\n",
       "      <th>1</th>\n",
       "      <td>2022-02-16 20:54:46+00:00</td>\n",
       "      <td>b'@SaschaLakic @Martin87325975 @Claudia7738329...</td>\n",
       "      <td>b'oliver_sge'</td>\n",
       "      <td>b''</td>\n",
       "    </tr>\n",
       "    <tr>\n",
       "      <th>2</th>\n",
       "      <td>2022-02-16 20:52:29+00:00</td>\n",
       "      <td>b'@lukaasxn33 Endlich mal ein W'</td>\n",
       "      <td>b'sge_paul'</td>\n",
       "      <td>b'069'</td>\n",
       "    </tr>\n",
       "    <tr>\n",
       "      <th>3</th>\n",
       "      <td>2022-02-16 20:50:01+00:00</td>\n",
       "      <td>b'@Chris_76_SGE @BeateEi Es f\\xc3\\xbchlt sich ...</td>\n",
       "      <td>b'sge_bini'</td>\n",
       "      <td>b'Rhein-Main-Gebiet'</td>\n",
       "    </tr>\n",
       "    <tr>\n",
       "      <th>4</th>\n",
       "      <td>2022-02-16 20:49:27+00:00</td>\n",
       "      <td>b'@BeateEi Ich werde berichten \\xf0\\x9f\\x98\\x8e'</td>\n",
       "      <td>b'sge_bini'</td>\n",
       "      <td>b'Rhein-Main-Gebiet'</td>\n",
       "    </tr>\n",
       "  </tbody>\n",
       "</table>\n",
       "</div>"
      ],
      "text/plain": [
       "                           0  \\\n",
       "0  2022-02-16 20:55:37+00:00   \n",
       "1  2022-02-16 20:54:46+00:00   \n",
       "2  2022-02-16 20:52:29+00:00   \n",
       "3  2022-02-16 20:50:01+00:00   \n",
       "4  2022-02-16 20:49:27+00:00   \n",
       "\n",
       "                                                   1               2  \\\n",
       "0  b'@oliver_sge @Martin87325975 @Claudia77383293...  b'SaschaLakic'   \n",
       "1  b'@SaschaLakic @Martin87325975 @Claudia7738329...   b'oliver_sge'   \n",
       "2                   b'@lukaasxn33 Endlich mal ein W'     b'sge_paul'   \n",
       "3  b'@Chris_76_SGE @BeateEi Es f\\xc3\\xbchlt sich ...     b'sge_bini'   \n",
       "4   b'@BeateEi Ich werde berichten \\xf0\\x9f\\x98\\x8e'     b'sge_bini'   \n",
       "\n",
       "                      3  \n",
       "0                   b''  \n",
       "1                   b''  \n",
       "2                b'069'  \n",
       "3  b'Rhein-Main-Gebiet'  \n",
       "4  b'Rhein-Main-Gebiet'  "
      ]
     },
     "execution_count": 9,
     "metadata": {},
     "output_type": "execute_result"
    }
   ],
   "source": [
    "df1.head()"
   ]
  },
  {
   "cell_type": "code",
   "execution_count": 10,
   "id": "significant-dispatch",
   "metadata": {},
   "outputs": [
    {
     "data": {
      "text/html": [
       "<div>\n",
       "<style scoped>\n",
       "    .dataframe tbody tr th:only-of-type {\n",
       "        vertical-align: middle;\n",
       "    }\n",
       "\n",
       "    .dataframe tbody tr th {\n",
       "        vertical-align: top;\n",
       "    }\n",
       "\n",
       "    .dataframe thead th {\n",
       "        text-align: right;\n",
       "    }\n",
       "</style>\n",
       "<table border=\"1\" class=\"dataframe\">\n",
       "  <thead>\n",
       "    <tr style=\"text-align: right;\">\n",
       "      <th></th>\n",
       "      <th>0</th>\n",
       "      <th>1</th>\n",
       "      <th>2</th>\n",
       "      <th>3</th>\n",
       "    </tr>\n",
       "  </thead>\n",
       "  <tbody>\n",
       "    <tr>\n",
       "      <th>4709</th>\n",
       "      <td>2022-02-11 05:07:32+00:00</td>\n",
       "      <td>b'@Linchen8763 @liavah1 @twKITAbot Ich versteh...</td>\n",
       "      <td>b'SGE_Melli'</td>\n",
       "      <td>b'im sch\\xc3\\xb6nen Taunus '</td>\n",
       "    </tr>\n",
       "    <tr>\n",
       "      <th>4710</th>\n",
       "      <td>2022-02-11 05:05:09+00:00</td>\n",
       "      <td>b'@akieu_r sge thank u'</td>\n",
       "      <td>b'Redluvseu'</td>\n",
       "      <td>b'future single rich tita'</td>\n",
       "    </tr>\n",
       "    <tr>\n",
       "      <th>4711</th>\n",
       "      <td>2022-02-11 04:58:34+00:00</td>\n",
       "      <td>b'@CMoffiziell @jobbe2902 @RafaelBorre_ @SPORT...</td>\n",
       "      <td>b'sge_94'</td>\n",
       "      <td>b''</td>\n",
       "    </tr>\n",
       "    <tr>\n",
       "      <th>4712</th>\n",
       "      <td>2022-02-11 04:47:53+00:00</td>\n",
       "      <td>b'@SGE_18052013 @SGEAston Und jetzt?'</td>\n",
       "      <td>b'Trobbbyyy'</td>\n",
       "      <td>b'386'</td>\n",
       "    </tr>\n",
       "    <tr>\n",
       "      <th>4713</th>\n",
       "      <td>2022-02-11 04:20:13+00:00</td>\n",
       "      <td>b'@snkizeil sge po, thank u hejwkwhwuw'</td>\n",
       "      <td>b'kael_is_me'</td>\n",
       "      <td>b'pjs'</td>\n",
       "    </tr>\n",
       "  </tbody>\n",
       "</table>\n",
       "</div>"
      ],
      "text/plain": [
       "                              0  \\\n",
       "4709  2022-02-11 05:07:32+00:00   \n",
       "4710  2022-02-11 05:05:09+00:00   \n",
       "4711  2022-02-11 04:58:34+00:00   \n",
       "4712  2022-02-11 04:47:53+00:00   \n",
       "4713  2022-02-11 04:20:13+00:00   \n",
       "\n",
       "                                                      1              2  \\\n",
       "4709  b'@Linchen8763 @liavah1 @twKITAbot Ich versteh...   b'SGE_Melli'   \n",
       "4710                            b'@akieu_r sge thank u'   b'Redluvseu'   \n",
       "4711  b'@CMoffiziell @jobbe2902 @RafaelBorre_ @SPORT...      b'sge_94'   \n",
       "4712              b'@SGE_18052013 @SGEAston Und jetzt?'   b'Trobbbyyy'   \n",
       "4713            b'@snkizeil sge po, thank u hejwkwhwuw'  b'kael_is_me'   \n",
       "\n",
       "                                 3  \n",
       "4709  b'im sch\\xc3\\xb6nen Taunus '  \n",
       "4710    b'future single rich tita'  \n",
       "4711                           b''  \n",
       "4712                        b'386'  \n",
       "4713                        b'pjs'  "
      ]
     },
     "execution_count": 10,
     "metadata": {},
     "output_type": "execute_result"
    }
   ],
   "source": [
    "df2.tail()"
   ]
  },
  {
   "cell_type": "code",
   "execution_count": 11,
   "id": "bored-jason",
   "metadata": {},
   "outputs": [],
   "source": [
    "df1.columns = [\"Date\", \"Tweet\", \"User\", \"Location\"]\n",
    "df2.columns = [\"Date\", \"Tweet\", \"User\", \"Location\"]\n",
    "df3.columns = [\"Date\", \"Tweet\", \"User\", \"Location\"]\n",
    "df4.columns = [\"Date\", \"Tweet\", \"User\", \"Location\"]"
   ]
  },
  {
   "cell_type": "code",
   "execution_count": 12,
   "id": "surgical-isaac",
   "metadata": {},
   "outputs": [
    {
     "data": {
      "text/plain": [
       "5223"
      ]
     },
     "execution_count": 12,
     "metadata": {},
     "output_type": "execute_result"
    }
   ],
   "source": [
    "len(df4)"
   ]
  },
  {
   "cell_type": "code",
   "execution_count": 13,
   "id": "defined-desert",
   "metadata": {},
   "outputs": [
    {
     "data": {
      "text/plain": [
       "Date        object\n",
       "Tweet       object\n",
       "User        object\n",
       "Location    object\n",
       "dtype: object"
      ]
     },
     "execution_count": 13,
     "metadata": {},
     "output_type": "execute_result"
    }
   ],
   "source": [
    "df1.dtypes"
   ]
  },
  {
   "cell_type": "code",
   "execution_count": 14,
   "id": "gothic-daniel",
   "metadata": {},
   "outputs": [],
   "source": [
    "import ast"
   ]
  },
  {
   "cell_type": "code",
   "execution_count": 15,
   "id": "embedded-guidance",
   "metadata": {},
   "outputs": [],
   "source": [
    "df1['tweet'] = df1['Tweet'].apply(ast.literal_eval).str.decode(\"utf-8\")\n",
    "df2['tweet'] = df2['Tweet'].apply(ast.literal_eval).str.decode(\"utf-8\")\n",
    "df3['tweet'] = df3['Tweet'].apply(ast.literal_eval).str.decode(\"utf-8\")\n",
    "df4['tweet'] = df4['Tweet'].apply(ast.literal_eval).str.decode(\"utf-8\")"
   ]
  },
  {
   "cell_type": "code",
   "execution_count": 16,
   "id": "defensive-animal",
   "metadata": {},
   "outputs": [
    {
     "data": {
      "text/html": [
       "<div>\n",
       "<style scoped>\n",
       "    .dataframe tbody tr th:only-of-type {\n",
       "        vertical-align: middle;\n",
       "    }\n",
       "\n",
       "    .dataframe tbody tr th {\n",
       "        vertical-align: top;\n",
       "    }\n",
       "\n",
       "    .dataframe thead th {\n",
       "        text-align: right;\n",
       "    }\n",
       "</style>\n",
       "<table border=\"1\" class=\"dataframe\">\n",
       "  <thead>\n",
       "    <tr style=\"text-align: right;\">\n",
       "      <th></th>\n",
       "      <th>Date</th>\n",
       "      <th>Tweet</th>\n",
       "      <th>User</th>\n",
       "      <th>Location</th>\n",
       "      <th>tweet</th>\n",
       "    </tr>\n",
       "  </thead>\n",
       "  <tbody>\n",
       "    <tr>\n",
       "      <th>4937</th>\n",
       "      <td>2022-02-08 16:10:34+00:00</td>\n",
       "      <td>b'@Tabea_SGE_Maria Entt\\xc3\\xa4uschend'</td>\n",
       "      <td>b'sge_paul'</td>\n",
       "      <td>b'069'</td>\n",
       "      <td>@Tabea_SGE_Maria Enttäuschend</td>\n",
       "    </tr>\n",
       "    <tr>\n",
       "      <th>4938</th>\n",
       "      <td>2022-02-08 16:06:03+00:00</td>\n",
       "      <td>b'@Zambrine5 @Chris_76_SGE @KOJAG Danke!'</td>\n",
       "      <td>b'Juergens_Welt'</td>\n",
       "      <td>b'Im Herzen von Europa'</td>\n",
       "      <td>@Zambrine5 @Chris_76_SGE @KOJAG Danke!</td>\n",
       "    </tr>\n",
       "    <tr>\n",
       "      <th>4939</th>\n",
       "      <td>2022-02-08 16:05:38+00:00</td>\n",
       "      <td>b'Die #SGE bastelt flei\\xc3\\x9fig am Abwehr-Pu...</td>\n",
       "      <td>b'Transfermarkt'</td>\n",
       "      <td>b'Hamburg'</td>\n",
       "      <td>Die #SGE bastelt fleißig am Abwehr-Puzzle für ...</td>\n",
       "    </tr>\n",
       "    <tr>\n",
       "      <th>4940</th>\n",
       "      <td>2022-02-08 16:03:53+00:00</td>\n",
       "      <td>b'@KingK0alah sge inig 26 \\xf0\\x9f\\xa4\\xa9'</td>\n",
       "      <td>b'kuhnemoto'</td>\n",
       "      <td>b'17 , she / her '</td>\n",
       "      <td>@KingK0alah sge inig 26 🤩</td>\n",
       "    </tr>\n",
       "    <tr>\n",
       "      <th>4941</th>\n",
       "      <td>2022-02-08 16:00:18+00:00</td>\n",
       "      <td>b'@Tabea_SGE_Maria Gude, als ob ich hier bin? ...</td>\n",
       "      <td>b'LeonGruen'</td>\n",
       "      <td>b'Hessen, Deutschland'</td>\n",
       "      <td>@Tabea_SGE_Maria Gude, als ob ich hier bin? Hä...</td>\n",
       "    </tr>\n",
       "  </tbody>\n",
       "</table>\n",
       "</div>"
      ],
      "text/plain": [
       "                           Date  \\\n",
       "4937  2022-02-08 16:10:34+00:00   \n",
       "4938  2022-02-08 16:06:03+00:00   \n",
       "4939  2022-02-08 16:05:38+00:00   \n",
       "4940  2022-02-08 16:03:53+00:00   \n",
       "4941  2022-02-08 16:00:18+00:00   \n",
       "\n",
       "                                                  Tweet              User  \\\n",
       "4937            b'@Tabea_SGE_Maria Entt\\xc3\\xa4uschend'       b'sge_paul'   \n",
       "4938          b'@Zambrine5 @Chris_76_SGE @KOJAG Danke!'  b'Juergens_Welt'   \n",
       "4939  b'Die #SGE bastelt flei\\xc3\\x9fig am Abwehr-Pu...  b'Transfermarkt'   \n",
       "4940        b'@KingK0alah sge inig 26 \\xf0\\x9f\\xa4\\xa9'      b'kuhnemoto'   \n",
       "4941  b'@Tabea_SGE_Maria Gude, als ob ich hier bin? ...      b'LeonGruen'   \n",
       "\n",
       "                     Location  \\\n",
       "4937                   b'069'   \n",
       "4938  b'Im Herzen von Europa'   \n",
       "4939               b'Hamburg'   \n",
       "4940       b'17 , she / her '   \n",
       "4941   b'Hessen, Deutschland'   \n",
       "\n",
       "                                                  tweet  \n",
       "4937                      @Tabea_SGE_Maria Enttäuschend  \n",
       "4938             @Zambrine5 @Chris_76_SGE @KOJAG Danke!  \n",
       "4939  Die #SGE bastelt fleißig am Abwehr-Puzzle für ...  \n",
       "4940                          @KingK0alah sge inig 26 🤩  \n",
       "4941  @Tabea_SGE_Maria Gude, als ob ich hier bin? Hä...  "
      ]
     },
     "execution_count": 16,
     "metadata": {},
     "output_type": "execute_result"
    }
   ],
   "source": [
    "df1.tail()"
   ]
  },
  {
   "cell_type": "code",
   "execution_count": 17,
   "id": "vertical-bench",
   "metadata": {},
   "outputs": [
    {
     "data": {
      "text/plain": [
       "4714"
      ]
     },
     "execution_count": 17,
     "metadata": {},
     "output_type": "execute_result"
    }
   ],
   "source": [
    "len(df2)"
   ]
  },
  {
   "cell_type": "code",
   "execution_count": 18,
   "id": "apparent-spyware",
   "metadata": {},
   "outputs": [],
   "source": [
    "df = df1.append(df2)\n",
    "df = df.append(df3)\n",
    "df = df.append(df4)"
   ]
  },
  {
   "cell_type": "code",
   "execution_count": 19,
   "id": "economic-internship",
   "metadata": {},
   "outputs": [],
   "source": [
    "df = df.drop_duplicates(subset=['Date','Tweet'])"
   ]
  },
  {
   "cell_type": "code",
   "execution_count": 20,
   "id": "administrative-mercury",
   "metadata": {},
   "outputs": [
    {
     "data": {
      "text/plain": [
       "11202"
      ]
     },
     "execution_count": 20,
     "metadata": {},
     "output_type": "execute_result"
    }
   ],
   "source": [
    "len(df)"
   ]
  },
  {
   "cell_type": "code",
   "execution_count": 21,
   "id": "arctic-johns",
   "metadata": {},
   "outputs": [],
   "source": [
    "df['time'] = pd.to_datetime(df['Date'])#, format = '%y/%m/%d %H:%M:%S')"
   ]
  },
  {
   "cell_type": "code",
   "execution_count": 22,
   "id": "brief-christmas",
   "metadata": {},
   "outputs": [],
   "source": [
    "df['Date'] = pd.to_datetime(df['time']).dt.date"
   ]
  },
  {
   "cell_type": "code",
   "execution_count": 23,
   "id": "moral-armstrong",
   "metadata": {},
   "outputs": [],
   "source": [
    "df['weekday'] = df['time'].dt.dayofweek\n",
    "df['Hour'] = df['time'].dt.hour\n",
    "df['Minute'] = df['time'].dt.minute"
   ]
  },
  {
   "cell_type": "code",
   "execution_count": 24,
   "id": "heard-marketing",
   "metadata": {},
   "outputs": [
    {
     "data": {
      "text/html": [
       "<div>\n",
       "<style scoped>\n",
       "    .dataframe tbody tr th:only-of-type {\n",
       "        vertical-align: middle;\n",
       "    }\n",
       "\n",
       "    .dataframe tbody tr th {\n",
       "        vertical-align: top;\n",
       "    }\n",
       "\n",
       "    .dataframe thead th {\n",
       "        text-align: right;\n",
       "    }\n",
       "</style>\n",
       "<table border=\"1\" class=\"dataframe\">\n",
       "  <thead>\n",
       "    <tr style=\"text-align: right;\">\n",
       "      <th></th>\n",
       "      <th>Date</th>\n",
       "      <th>Tweet</th>\n",
       "      <th>User</th>\n",
       "      <th>Location</th>\n",
       "      <th>tweet</th>\n",
       "      <th>time</th>\n",
       "      <th>weekday</th>\n",
       "      <th>Hour</th>\n",
       "      <th>Minute</th>\n",
       "    </tr>\n",
       "  </thead>\n",
       "  <tbody>\n",
       "    <tr>\n",
       "      <th>0</th>\n",
       "      <td>2022-02-16</td>\n",
       "      <td>b'@oliver_sge @Martin87325975 @Claudia77383293...</td>\n",
       "      <td>b'SaschaLakic'</td>\n",
       "      <td>b''</td>\n",
       "      <td>@oliver_sge @Martin87325975 @Claudia77383293 @...</td>\n",
       "      <td>2022-02-16 20:55:37+00:00</td>\n",
       "      <td>2</td>\n",
       "      <td>20</td>\n",
       "      <td>55</td>\n",
       "    </tr>\n",
       "    <tr>\n",
       "      <th>1</th>\n",
       "      <td>2022-02-16</td>\n",
       "      <td>b'@SaschaLakic @Martin87325975 @Claudia7738329...</td>\n",
       "      <td>b'oliver_sge'</td>\n",
       "      <td>b''</td>\n",
       "      <td>@SaschaLakic @Martin87325975 @Claudia77383293 ...</td>\n",
       "      <td>2022-02-16 20:54:46+00:00</td>\n",
       "      <td>2</td>\n",
       "      <td>20</td>\n",
       "      <td>54</td>\n",
       "    </tr>\n",
       "    <tr>\n",
       "      <th>2</th>\n",
       "      <td>2022-02-16</td>\n",
       "      <td>b'@lukaasxn33 Endlich mal ein W'</td>\n",
       "      <td>b'sge_paul'</td>\n",
       "      <td>b'069'</td>\n",
       "      <td>@lukaasxn33 Endlich mal ein W</td>\n",
       "      <td>2022-02-16 20:52:29+00:00</td>\n",
       "      <td>2</td>\n",
       "      <td>20</td>\n",
       "      <td>52</td>\n",
       "    </tr>\n",
       "    <tr>\n",
       "      <th>3</th>\n",
       "      <td>2022-02-16</td>\n",
       "      <td>b'@Chris_76_SGE @BeateEi Es f\\xc3\\xbchlt sich ...</td>\n",
       "      <td>b'sge_bini'</td>\n",
       "      <td>b'Rhein-Main-Gebiet'</td>\n",
       "      <td>@Chris_76_SGE @BeateEi Es fühlt sich alles so ...</td>\n",
       "      <td>2022-02-16 20:50:01+00:00</td>\n",
       "      <td>2</td>\n",
       "      <td>20</td>\n",
       "      <td>50</td>\n",
       "    </tr>\n",
       "    <tr>\n",
       "      <th>4</th>\n",
       "      <td>2022-02-16</td>\n",
       "      <td>b'@BeateEi Ich werde berichten \\xf0\\x9f\\x98\\x8e'</td>\n",
       "      <td>b'sge_bini'</td>\n",
       "      <td>b'Rhein-Main-Gebiet'</td>\n",
       "      <td>@BeateEi Ich werde berichten 😎</td>\n",
       "      <td>2022-02-16 20:49:27+00:00</td>\n",
       "      <td>2</td>\n",
       "      <td>20</td>\n",
       "      <td>49</td>\n",
       "    </tr>\n",
       "  </tbody>\n",
       "</table>\n",
       "</div>"
      ],
      "text/plain": [
       "         Date                                              Tweet  \\\n",
       "0  2022-02-16  b'@oliver_sge @Martin87325975 @Claudia77383293...   \n",
       "1  2022-02-16  b'@SaschaLakic @Martin87325975 @Claudia7738329...   \n",
       "2  2022-02-16                   b'@lukaasxn33 Endlich mal ein W'   \n",
       "3  2022-02-16  b'@Chris_76_SGE @BeateEi Es f\\xc3\\xbchlt sich ...   \n",
       "4  2022-02-16   b'@BeateEi Ich werde berichten \\xf0\\x9f\\x98\\x8e'   \n",
       "\n",
       "             User              Location  \\\n",
       "0  b'SaschaLakic'                   b''   \n",
       "1   b'oliver_sge'                   b''   \n",
       "2     b'sge_paul'                b'069'   \n",
       "3     b'sge_bini'  b'Rhein-Main-Gebiet'   \n",
       "4     b'sge_bini'  b'Rhein-Main-Gebiet'   \n",
       "\n",
       "                                               tweet  \\\n",
       "0  @oliver_sge @Martin87325975 @Claudia77383293 @...   \n",
       "1  @SaschaLakic @Martin87325975 @Claudia77383293 ...   \n",
       "2                      @lukaasxn33 Endlich mal ein W   \n",
       "3  @Chris_76_SGE @BeateEi Es fühlt sich alles so ...   \n",
       "4                     @BeateEi Ich werde berichten 😎   \n",
       "\n",
       "                       time  weekday  Hour  Minute  \n",
       "0 2022-02-16 20:55:37+00:00        2    20      55  \n",
       "1 2022-02-16 20:54:46+00:00        2    20      54  \n",
       "2 2022-02-16 20:52:29+00:00        2    20      52  \n",
       "3 2022-02-16 20:50:01+00:00        2    20      50  \n",
       "4 2022-02-16 20:49:27+00:00        2    20      49  "
      ]
     },
     "execution_count": 24,
     "metadata": {},
     "output_type": "execute_result"
    }
   ],
   "source": [
    "df.head()"
   ]
  },
  {
   "cell_type": "code",
   "execution_count": 25,
   "id": "cheap-bishop",
   "metadata": {},
   "outputs": [],
   "source": [
    "#Clean the text:\n",
    "\n",
    "def cleanTxt(text):\n",
    "    text = re.sub(r'@[A-Za-z0-9\\_]+','',text) #Removes @ mentions\n",
    "    text = re.sub(r'_[A-Za-z0-9\\_]+','',text)\n",
    "    text = re.sub(r'#','', text)\n",
    "    text = re.sub(r'RT[\\s]+','',text)\n",
    "    text = re.sub(r'https?:\\/\\/\\S+','',text) # Remove the hyper link\n",
    "    return text"
   ]
  },
  {
   "cell_type": "code",
   "execution_count": 26,
   "id": "individual-selection",
   "metadata": {},
   "outputs": [],
   "source": [
    "df['tweet']=df['tweet'].apply(cleanTxt)"
   ]
  },
  {
   "cell_type": "code",
   "execution_count": 27,
   "id": "earlier-former",
   "metadata": {},
   "outputs": [],
   "source": [
    "from deep_translator import GoogleTranslator"
   ]
  },
  {
   "cell_type": "code",
   "execution_count": 28,
   "id": "approximate-literature",
   "metadata": {},
   "outputs": [],
   "source": [
    "df['translated_tweet'] = df['tweet'].apply(lambda x: GoogleTranslator(source='de', target='en').translate(x))"
   ]
  },
  {
   "cell_type": "code",
   "execution_count": 29,
   "id": "herbal-disposition",
   "metadata": {},
   "outputs": [],
   "source": [
    "from nltk.corpus import stopwords\n",
    "from sklearn.feature_extraction.text import CountVectorizer\n",
    "\n",
    "\n",
    "english_stopwords = stopwords.words('english')\n",
    "\n",
    "vect = CountVectorizer(stop_words = english_stopwords)"
   ]
  },
  {
   "cell_type": "code",
   "execution_count": 30,
   "id": "departmental-butler",
   "metadata": {},
   "outputs": [],
   "source": [
    "df['tweet_without_stopwords'] = df['translated_tweet'].apply(lambda x: ' '.join([word for word in x.split() if word not in (english_stopwords)]))"
   ]
  },
  {
   "cell_type": "code",
   "execution_count": 31,
   "id": "single-position",
   "metadata": {},
   "outputs": [],
   "source": [
    "df.to_csv('SGE_english_final.csv')"
   ]
  },
  {
   "cell_type": "code",
   "execution_count": null,
   "id": "latest-orange",
   "metadata": {},
   "outputs": [],
   "source": []
  }
 ],
 "metadata": {
  "kernelspec": {
   "display_name": "Python 3",
   "language": "python",
   "name": "python3"
  },
  "language_info": {
   "codemirror_mode": {
    "name": "ipython",
    "version": 3
   },
   "file_extension": ".py",
   "mimetype": "text/x-python",
   "name": "python",
   "nbconvert_exporter": "python",
   "pygments_lexer": "ipython3",
   "version": "3.9.2"
  }
 },
 "nbformat": 4,
 "nbformat_minor": 5
}
