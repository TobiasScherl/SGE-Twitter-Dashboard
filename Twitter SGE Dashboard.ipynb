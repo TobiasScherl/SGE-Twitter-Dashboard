{
 "cells": [
  {
   "cell_type": "code",
   "execution_count": 1,
   "id": "decent-evening",
   "metadata": {},
   "outputs": [
    {
     "name": "stderr",
     "output_type": "stream",
     "text": [
      "<ipython-input-1-33c69528b357>:2: UserWarning: \n",
      "The dash_core_components package is deprecated. Please replace\n",
      "`import dash_core_components as dcc` with `from dash import dcc`\n",
      "  import dash_core_components as dcc\n",
      "<ipython-input-1-33c69528b357>:3: UserWarning: \n",
      "The dash_html_components package is deprecated. Please replace\n",
      "`import dash_html_components as html` with `from dash import html`\n",
      "  import dash_html_components as html\n"
     ]
    }
   ],
   "source": [
    "import dash\n",
    "import dash_core_components as dcc\n",
    "import dash_html_components as html\n",
    "from dash.dependencies import Input, Output\n",
    "import pandas as pd\n",
    "import plotly.express as px\n",
    "\n",
    "external_stylesheets = ['https://codepen.io/chriddyp/pen/bWLwgP.css']"
   ]
  },
  {
   "cell_type": "code",
   "execution_count": 2,
   "id": "auburn-guyana",
   "metadata": {},
   "outputs": [],
   "source": [
    "df = pd.read_csv('df_sentiment_SGE.csv')\n",
    "df_day = pd.read_csv('df_day_SGE.csv')\n",
    "df_hour = pd.read_csv('df_hour_SGE.csv')\n",
    "df_totalTweets = pd.read_csv('df_totalTweets_SGE.csv')\n",
    "# df_type = pd.read_csv(r'C:\\Users\\tobis\\Downloads\\electricity_df_type.csv')\n",
    "# df_type = df_type.sort_values('Power [W]')"
   ]
  },
  {
   "cell_type": "code",
   "execution_count": 3,
   "id": "focused-lounge",
   "metadata": {},
   "outputs": [
    {
     "data": {
      "text/html": [
       "<div>\n",
       "<style scoped>\n",
       "    .dataframe tbody tr th:only-of-type {\n",
       "        vertical-align: middle;\n",
       "    }\n",
       "\n",
       "    .dataframe tbody tr th {\n",
       "        vertical-align: top;\n",
       "    }\n",
       "\n",
       "    .dataframe thead th {\n",
       "        text-align: right;\n",
       "    }\n",
       "</style>\n",
       "<table border=\"1\" class=\"dataframe\">\n",
       "  <thead>\n",
       "    <tr style=\"text-align: right;\">\n",
       "      <th></th>\n",
       "      <th>com_score</th>\n",
       "      <th>value</th>\n",
       "    </tr>\n",
       "  </thead>\n",
       "  <tbody>\n",
       "    <tr>\n",
       "      <th>0</th>\n",
       "      <td>neg</td>\n",
       "      <td>2252</td>\n",
       "    </tr>\n",
       "    <tr>\n",
       "      <th>1</th>\n",
       "      <td>neu</td>\n",
       "      <td>4675</td>\n",
       "    </tr>\n",
       "    <tr>\n",
       "      <th>2</th>\n",
       "      <td>pos</td>\n",
       "      <td>4275</td>\n",
       "    </tr>\n",
       "  </tbody>\n",
       "</table>\n",
       "</div>"
      ],
      "text/plain": [
       "  com_score  value\n",
       "0       neg   2252\n",
       "1       neu   4675\n",
       "2       pos   4275"
      ]
     },
     "execution_count": 3,
     "metadata": {},
     "output_type": "execute_result"
    }
   ],
   "source": [
    "df_totalTweets.head()"
   ]
  },
  {
   "cell_type": "code",
   "execution_count": 4,
   "id": "turkish-seventh",
   "metadata": {},
   "outputs": [],
   "source": [
    "app = dash.Dash(__name__, external_stylesheets=external_stylesheets)\n",
    "server = app.server\n",
    "\n",
    "fig1 = px.line(df, x=\"datetime\", y=[\"pos\",\"neg\",\"neu\"], template=\"plotly_dark\")\n",
    "fig2 = px.bar(df_totalTweets, y='value', x='com_score', template=\"plotly_dark\")#, title='Total number of Tweets per Sentiment')\n",
    "fig3 = px.bar(df_day, x=\"day\", y=[\"pos\",\"neg\",\"neu\"], template=\"plotly_dark\")\n",
    "fig4 = px.bar(df_hour, x=\"Hour\", y=[\"pos\",\"neg\",\"neu\"], template=\"plotly_dark\")\n",
    "\n",
    "\n",
    "\n",
    "app.layout = html.Div(children=[\n",
    "    # All elements from the top of the page\n",
    "    html.Div([\n",
    "        html.H1(children='Sentiment Analysis of Eintracht Frankfurt Tweets'),\n",
    "\n",
    "        html.Div(children='''\n",
    "            Hourly Number of SGE related Tweets summed by Sentiment\n",
    "        '''),\n",
    "\n",
    "        dcc.Graph(\n",
    "            id='graph1',\n",
    "            figure=fig1\n",
    "        ),  \n",
    "    ])\n",
    "    ,\n",
    "    # New Div for all elements in the new 'row' of the page\n",
    "    html.Div([\n",
    "        html.H1(children='Total number of SGE Tweets per Sentiment'),\n",
    "\n",
    "        html.Div(children='''\n",
    "            Sentiments sorted according to their compound scores\n",
    "        '''),\n",
    "\n",
    "        dcc.Graph(\n",
    "            id='graph2',\n",
    "            figure=fig2\n",
    "        ),  \n",
    "    ])\n",
    "    ,\n",
    "    html.Div([\n",
    "        html.H1(children='Sum of SGE Tweets per Day and Sentiment'),\n",
    "\n",
    "        html.Div(children='''\n",
    "            Tweets sorted per day and sentiment\n",
    "        '''),\n",
    "\n",
    "        dcc.Graph(\n",
    "            id='graph3',\n",
    "            figure=fig3\n",
    "        ),  \n",
    "    ])\n",
    "    ,\n",
    "    html.Div([\n",
    "        html.H1(children='SGE Tweets per Hour of a Day'),\n",
    "\n",
    "        html.Div(children='''\n",
    "            Tweets summed per hour of a day by sentiment\n",
    "        '''),\n",
    "\n",
    "        dcc.Graph(\n",
    "            id='graph4',\n",
    "            figure=fig4\n",
    "        ),  \n",
    "    ]),\n",
    "])\n"
   ]
  },
  {
   "cell_type": "code",
   "execution_count": 5,
   "id": "detailed-keyboard",
   "metadata": {},
   "outputs": [
    {
     "name": "stdout",
     "output_type": "stream",
     "text": [
      "Dash is running on http://127.0.0.1:8050/\n",
      "\n",
      " * Serving Flask app \"__main__\" (lazy loading)\n",
      " * Environment: production\n",
      "   WARNING: This is a development server. Do not use it in a production deployment.\n",
      "   Use a production WSGI server instead.\n",
      " * Debug mode: off\n"
     ]
    },
    {
     "name": "stderr",
     "output_type": "stream",
     "text": [
      " * Running on http://127.0.0.1:8050/ (Press CTRL+C to quit)\n",
      "127.0.0.1 - - [27/Feb/2022 15:00:20] \"\u001b[37mGET / HTTP/1.1\u001b[0m\" 200 -\n",
      "127.0.0.1 - - [27/Feb/2022 15:00:21] \"\u001b[37mGET /_dash-layout HTTP/1.1\u001b[0m\" 200 -\n",
      "127.0.0.1 - - [27/Feb/2022 15:00:21] \"\u001b[37mGET /_dash-dependencies HTTP/1.1\u001b[0m\" 200 -\n",
      "127.0.0.1 - - [27/Feb/2022 15:00:21] \"\u001b[37mGET /_favicon.ico?v=2.0.0 HTTP/1.1\u001b[0m\" 200 -\n",
      "127.0.0.1 - - [27/Feb/2022 15:00:21] \"\u001b[37mGET /_dash-component-suites/dash/dcc/async-graph.js HTTP/1.1\u001b[0m\" 200 -\n",
      "127.0.0.1 - - [27/Feb/2022 15:00:21] \"\u001b[37mGET /_dash-component-suites/dash/dcc/async-plotlyjs.js HTTP/1.1\u001b[0m\" 200 -\n"
     ]
    }
   ],
   "source": [
    "if __name__ == '__main__':\n",
    "    app.run_server()"
   ]
  },
  {
   "cell_type": "code",
   "execution_count": null,
   "id": "floating-honolulu",
   "metadata": {},
   "outputs": [],
   "source": []
  },
  {
   "cell_type": "code",
   "execution_count": null,
   "id": "several-liabilities",
   "metadata": {},
   "outputs": [],
   "source": []
  }
 ],
 "metadata": {
  "kernelspec": {
   "display_name": "Python 3",
   "language": "python",
   "name": "python3"
  },
  "language_info": {
   "codemirror_mode": {
    "name": "ipython",
    "version": 3
   },
   "file_extension": ".py",
   "mimetype": "text/x-python",
   "name": "python",
   "nbconvert_exporter": "python",
   "pygments_lexer": "ipython3",
   "version": "3.9.2"
  }
 },
 "nbformat": 4,
 "nbformat_minor": 5
}
